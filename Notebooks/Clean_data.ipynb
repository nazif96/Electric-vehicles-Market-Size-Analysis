{
 "cells": [
  {
   "cell_type": "markdown",
   "metadata": {},
   "source": [
    "### Nettoyage des données et sauvegarde"
   ]
  },
  {
   "cell_type": "code",
   "execution_count": 1,
   "metadata": {},
   "outputs": [],
   "source": [
    "import pandas as pd \n",
    "import numpy as np\n",
    "import matplotlib.pyplot as plt\n",
    "import seaborn as sns"
   ]
  },
  {
   "cell_type": "code",
   "execution_count": 6,
   "metadata": {},
   "outputs": [],
   "source": [
    "from pathlib import Path\n",
    "\n",
    "# Répertoire de base du projet\n",
    "#BASE_DIR = Path(__file__).resolve().parent.parent\n",
    "BASE_DIR = Path().resolve()\n",
    "\n",
    "# Chemin propre vers le dossier Data\n",
    "DATA_DIR = BASE_DIR / \"Data\""
   ]
  },
  {
   "cell_type": "code",
   "execution_count": 7,
   "metadata": {},
   "outputs": [
    {
     "name": "stdout",
     "output_type": "stream",
     "text": [
      "BASE_DIR: C:\\Users\\NAZIFOU\\Electric-vehicles-Market-Size-Analysis\\Data\n",
      "DATA_DIR: C:\\Users\\NAZIFOU\\Electric-vehicles-Market-Size-Analysis\\Data\\Data\n"
     ]
    }
   ],
   "source": [
    "print(f\"BASE_DIR: {BASE_DIR}\")\n",
    "print(f\"DATA_DIR: {DATA_DIR}\")"
   ]
  },
  {
   "cell_type": "code",
   "execution_count": null,
   "metadata": {},
   "outputs": [],
   "source": []
  }
 ],
 "metadata": {
  "kernelspec": {
   "display_name": "env",
   "language": "python",
   "name": "python3"
  },
  "language_info": {
   "codemirror_mode": {
    "name": "ipython",
    "version": 3
   },
   "file_extension": ".py",
   "mimetype": "text/x-python",
   "name": "python",
   "nbconvert_exporter": "python",
   "pygments_lexer": "ipython3",
   "version": "3.13.2"
  }
 },
 "nbformat": 4,
 "nbformat_minor": 2
}
